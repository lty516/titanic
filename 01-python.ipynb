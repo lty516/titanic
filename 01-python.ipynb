{
 "cells": [
  {
   "cell_type": "markdown",
   "metadata": {},
   "source": [
    "### 1. 할인 가격 \n",
    "\n",
    "기름값을 계산하라, 많이사면 할인을 하준다.\n",
    "\n",
    "* 처음 20갤론: 갤론 당 90센트\n",
    "* 다음 40갤론: 갤론 당 80센트\n",
    "* 나머지: 갤론 당 75센트\n",
    "\n",
    "예를 들어 35갤론을 구입했다면, 가격은 30달러(20*90 + 15*80)"
   ]
  },
  {
   "cell_type": "code",
   "execution_count": 60,
   "metadata": {},
   "outputs": [
    {
     "name": "stdout",
     "output_type": "stream",
     "text": [
      "75 1125\n"
     ]
    }
   ],
   "source": [
    "gallon = 75\n",
    "\n",
    "# ToDo : 나머지 75갤론을 계산하는 방법을 추가해주세요.\n",
    "\n",
    "if gallon <=20 :\n",
    "    price = 90 * gallon \n",
    "elif gallon <= 40:\n",
    "    price = 80 * gallon\n",
    "else:\n",
    "    price = 75 * (gallon -60) \n",
    "    \n",
    "print(gallon, price)"
   ]
  },
  {
   "cell_type": "markdown",
   "metadata": {},
   "source": [
    "### 369 게임 \n",
    "\n",
    "369게임은 다음과 같습니다.\n",
    "1. 1부터 시작해서 숫자를 하나씩 센다.\n",
    "2. 숫자에 3이나, 6이나, 9가 있을 경우 박수(clap)를 친다.\n",
    "3. 지정한 최대 숫자까지 도달하면 프로그램을 종료한다."
   ]
  },
  {
   "cell_type": "code",
   "execution_count": 54,
   "metadata": {},
   "outputs": [
    {
     "name": "stdout",
     "output_type": "stream",
     "text": [
      "0\n",
      "1\n",
      "2\n",
      "3 clap!\n",
      "4\n",
      "5\n",
      "6 clap!\n",
      "7\n",
      "8\n",
      "9 clap!\n",
      "10\n",
      "11\n",
      "12\n",
      "13 clap!\n",
      "14\n",
      "15\n",
      "16 clap!\n",
      "17\n",
      "18\n",
      "19 clap!\n",
      "20\n",
      "21\n",
      "22\n",
      "23 clap!\n",
      "24\n",
      "25\n",
      "26 clap!\n",
      "27\n",
      "28\n",
      "29 clap!\n",
      "30 clap!\n",
      "31 clap!\n",
      "32 clap!\n",
      "33 clap!clap!\n",
      "34 clap!\n",
      "35 clap!\n",
      "36 clap!\n",
      "37 clap!\n",
      "38 clap!\n",
      "39 clap!\n",
      "40\n",
      "41\n",
      "42\n",
      "43 clap!\n",
      "44\n",
      "45\n",
      "46 clap!\n",
      "47\n",
      "48\n",
      "49 clap!\n",
      "50\n",
      "51\n",
      "52\n",
      "53 clap!\n",
      "54\n",
      "55\n",
      "56 clap!\n",
      "57\n",
      "58\n",
      "59 clap!\n",
      "60 clap!\n",
      "61 clap!\n",
      "62 clap!\n",
      "63 clap!\n",
      "64 clap!\n",
      "65 clap!\n",
      "66 clap!clap!\n",
      "67 clap!\n",
      "68 clap!\n",
      "69 clap!\n",
      "70\n",
      "71\n",
      "72\n",
      "73 clap!\n",
      "74\n",
      "75\n",
      "76 clap!\n",
      "77\n",
      "78\n",
      "79 clap!\n",
      "80\n",
      "81\n",
      "82\n",
      "83 clap!\n",
      "84\n",
      "85\n",
      "86 clap!\n",
      "87\n",
      "88\n",
      "89 clap!\n",
      "90 clap!\n",
      "91 clap!\n",
      "92 clap!\n",
      "93 clap!\n",
      "94 clap!\n",
      "95 clap!\n",
      "96 clap!\n",
      "97 clap!\n",
      "98 clap!\n",
      "99 clap!clap!\n"
     ]
    }
   ],
   "source": [
    "count = 100\n",
    "\n",
    "for n in range(count):\n",
    "    n_text = str(n)\n",
    "    \n",
    "    # Todo \n",
    "    # 박수를 여러번 치는 경우를 고려해서 계산해주세요.(ex: 33은 박수를 두번쳐야합니다.)\n",
    "    # Tips : 파이썬 문자열의 count 매서드를 사용해 보세요.\n",
    "    \n",
    "    \n",
    "    if \"3\" in n_text or \"6\" in n_text or \"9\" in n_text:\n",
    "        print(n,\"clap!\"*n_text.count(\"3\") or\"clap!\"*n_text.count(\"6\") or \"clap!\"*n_text.count(\"9\"))\n",
    "    else:\n",
    "        print(n)\n",
    "    "
   ]
  },
  {
   "cell_type": "code",
   "execution_count": null,
   "metadata": {},
   "outputs": [],
   "source": []
  },
  {
   "cell_type": "code",
   "execution_count": 46,
   "metadata": {},
   "outputs": [
    {
     "data": {
      "text/plain": [
       "5"
      ]
     },
     "execution_count": 46,
     "metadata": {},
     "output_type": "execute_result"
    }
   ],
   "source": [
    "example = '333235623'\n",
    "\n",
    "example.count(\"3\")"
   ]
  },
  {
   "cell_type": "code",
   "execution_count": null,
   "metadata": {},
   "outputs": [],
   "source": []
  }
 ],
 "metadata": {
  "kernelspec": {
   "display_name": "Python 3",
   "language": "python",
   "name": "python3"
  },
  "language_info": {
   "codemirror_mode": {
    "name": "ipython",
    "version": 3
   },
   "file_extension": ".py",
   "mimetype": "text/x-python",
   "name": "python",
   "nbconvert_exporter": "python",
   "pygments_lexer": "ipython3",
   "version": "3.7.6"
  }
 },
 "nbformat": 4,
 "nbformat_minor": 4
}
